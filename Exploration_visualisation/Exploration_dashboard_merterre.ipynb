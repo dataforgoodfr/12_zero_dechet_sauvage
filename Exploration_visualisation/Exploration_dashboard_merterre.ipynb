{
 "cells": [
  {
   "cell_type": "code",
   "execution_count": 4,
   "id": "6a0e2dd1-c9e9-4f68-b09f-b43a96914ee4",
   "metadata": {},
   "outputs": [],
   "source": [
    "import pandas as pd"
   ]
  },
  {
   "cell_type": "markdown",
   "id": "3baee7cd-ef70-4c31-a3ab-0bf3e88ba533",
   "metadata": {},
   "source": [
    "# Exploration et visualisation"
   ]
  },
  {
   "cell_type": "code",
   "execution_count": null,
   "id": "2649569c-7c1d-43e1-8b94-df2799e8541d",
   "metadata": {},
   "outputs": [],
   "source": []
  }
 ],
 "metadata": {
  "kernelspec": {
   "display_name": "Python 3 (ipykernel)",
   "language": "python",
   "name": "python3"
  },
  "language_info": {
   "codemirror_mode": {
    "name": "ipython",
    "version": 3
   },
   "file_extension": ".py",
   "mimetype": "text/x-python",
   "name": "python",
   "nbconvert_exporter": "python",
   "pygments_lexer": "ipython3",
   "version": "3.10.13"
  }
 },
 "nbformat": 4,
 "nbformat_minor": 5
}
